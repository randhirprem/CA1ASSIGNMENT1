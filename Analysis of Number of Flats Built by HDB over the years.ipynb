{
 "cells": [
  {
   "cell_type": "markdown",
   "id": "ed9f6c2e",
   "metadata": {},
   "source": [
    "# Number of flats built By HDB over the years."
   ]
  },
  {
   "cell_type": "markdown",
   "id": "465a380d",
   "metadata": {},
   "source": [
    "## This Analysis is to identify the total number of Flats built by HDB over the years and point out the creation of New Towns. "
   ]
  },
  {
   "cell_type": "markdown",
   "id": "51bc07bc",
   "metadata": {},
   "source": [
    "The data-set is from the years 1977-2017. \n",
    "A line-graph will be used to show the trend key peaks will be used to identify town creations. Evidence will be more BTO homes built."
   ]
  },
  {
   "cell_type": "markdown",
   "id": "ba3f26c5",
   "metadata": {},
   "source": [
    "### Import the necessary libs."
   ]
  },
  {
   "cell_type": "code",
   "execution_count": 1,
   "id": "9ea7c812",
   "metadata": {},
   "outputs": [],
   "source": [
    "# Import all the necessary libraries\n",
    "import numpy as np\n",
    "import matplotlib.pyplot as plt"
   ]
  },
  {
   "cell_type": "markdown",
   "id": "dadbb3c6",
   "metadata": {},
   "source": [
    "### Create a title for the dataset "
   ]
  },
  {
   "cell_type": "code",
   "execution_count": 2,
   "id": "5974d56e",
   "metadata": {},
   "outputs": [
    {
     "name": "stdout",
     "output_type": "stream",
     "text": [
      "***Flats Constructed by HDB***\n",
      "\n"
     ]
    }
   ],
   "source": [
    "title = \"Flats Constructed by HDB\"\n",
    "titlelen = len(title)\n",
    "print(\"{:*^{titlelen}}\".format(title, titlelen=titlelen+6))\n",
    "print()"
   ]
  },
  {
   "cell_type": "markdown",
   "id": "73100fc0",
   "metadata": {},
   "source": [
    "### Load the dataset"
   ]
  },
  {
   "cell_type": "code",
   "execution_count": 3,
   "id": "a00700be",
   "metadata": {},
   "outputs": [],
   "source": [
    "data = np.genfromtxt('FlatsConstructedByHousingAndDevelopmentBoardAnnual.csv',  \n",
    "                               skip_header=1, \n",
    "                               dtype=[('year','i8'), ('flats_constructed','i8')], delimiter=\",\",)"
   ]
  },
  {
   "cell_type": "markdown",
   "id": "53c49f67",
   "metadata": {},
   "source": [
    "### Check the data and the head of the data"
   ]
  },
  {
   "cell_type": "code",
   "execution_count": 5,
   "id": "e7aa791e",
   "metadata": {},
   "outputs": [
    {
     "name": "stdout",
     "output_type": "stream",
     "text": [
      "[(1977, 30498) (1978, 29742) (1979, 26709) (1980, 18421) (1981, 15381)\n",
      " (1982, 19532) (1983, 40062) (1984, 67017) (1985, 46370) (1986, 38907)\n",
      " (1987, 29008) (1988, 27071) (1989, 11793) (1990, 13739) (1991, 10452)\n",
      " (1992, 18482) (1993, 17891) (1994, 25987) (1995, 26185) (1996, 27484)\n",
      " (1997, 31312) (1998, 36609) (1999, 34836) (2000, 27678) (2001, 23913)\n",
      " (2002, 10141) (2003, 10082) (2004,  5326) (2005,  5673) (2006,  2733)\n",
      " (2007,  5063) (2008,  3154) (2009,  6495) (2010, 10161) (2011, 17813)\n",
      " (2012, 19005) (2013, 12744) (2014, 27120) (2015, 26108) (2016, 26025)\n",
      " (2017, 35210)]\n"
     ]
    }
   ],
   "source": [
    "print(data)"
   ]
  },
  {
   "cell_type": "code",
   "execution_count": 6,
   "id": "a15d4006",
   "metadata": {},
   "outputs": [
    {
     "name": "stdout",
     "output_type": "stream",
     "text": [
      "[(1977, 30498) (1978, 29742) (1979, 26709) (1980, 18421) (1981, 15381)\n",
      " (1982, 19532) (1983, 40062) (1984, 67017) (1985, 46370) (1986, 38907)]\n"
     ]
    }
   ],
   "source": [
    "print(data[:10])"
   ]
  },
  {
   "cell_type": "markdown",
   "id": "3d7bf3a5",
   "metadata": {},
   "source": [
    "### Stats about the data"
   ]
  },
  {
   "cell_type": "markdown",
   "id": "77b522d2",
   "metadata": {},
   "source": [
    "#### Unique values"
   ]
  },
  {
   "cell_type": "code",
   "execution_count": 8,
   "id": "28bb1b96",
   "metadata": {},
   "outputs": [
    {
     "name": "stdout",
     "output_type": "stream",
     "text": [
      "41 unique values in year column\n",
      "41 unique values in flat column\n",
      "{1977, 1978, 1979, 1980, 1981, 1982, 1983, 1984, 1985, 1986, 1987, 1988, 1989, 1990, 1991, 1992, 1993, 1994, 1995, 1996, 1997, 1998, 1999, 2000, 2001, 2002, 2003, 2004, 2005, 2006, 2007, 2008, 2009, 2010, 2011, 2012, 2013, 2014, 2015, 2016, 2017}\n",
      "{36609, 25987, 35210, 11793, 34836, 15381, 17813, 10141, 27678, 30498, 46370, 5673, 26025, 13739, 2733, 29742, 10161, 18482, 19005, 27071, 5063, 12744, 67017, 26185, 19532, 5326, 29008, 31312, 3154, 10452, 26709, 27484, 6495, 10082, 17891, 23913, 27120, 18421, 38907, 26108, 40062}\n"
     ]
    }
   ],
   "source": [
    "set_year = set(data['year'])\n",
    "set_flat = set(data['flats_constructed'])\n",
    "\n",
    "print(str(len(set_year)) + \" unique values in year column\")\n",
    "print(str(len(set_flat )) + \" unique values in flat column\")\n",
    "print(set_year)\n",
    "print(set_flat)"
   ]
  },
  {
   "cell_type": "markdown",
   "id": "70196a98",
   "metadata": {},
   "source": [
    "#### Max and Min values"
   ]
  },
  {
   "cell_type": "code",
   "execution_count": 10,
   "id": "2b152abe",
   "metadata": {},
   "outputs": [
    {
     "name": "stdout",
     "output_type": "stream",
     "text": [
      "The maximum number of flats constructed was in the year 1984 with 67017 flats built. \n",
      "The minimum number of flats constructed was in the year 2006 with 2733 flats built. \n"
     ]
    }
   ],
   "source": [
    "max_value = np.max(data['flats_constructed'])\n",
    "min_value = np.min(data['flats_constructed'] )           \n",
    "max_row_index = np.argmax(data['flats_constructed'])\n",
    "min_row_index = np.argmin(data['flats_constructed'])\n",
    "print(\"The maximum number of flats constructed was in the year {} with {} flats built. \".format(data[max_row_index][0],data[max_row_index][1]))\n",
    "print(\"The minimum number of flats constructed was in the year {} with {} flats built. \".format(data[min_row_index][0],data[min_row_index][1]))"
   ]
  },
  {
   "cell_type": "code",
   "execution_count": 11,
   "id": "7e25773a",
   "metadata": {},
   "outputs": [
    {
     "data": {
      "image/png": "[encoded data removed]",
      "text/plain": [
       "<Figure size 432x288 with 1 Axes>"
      ]
     },
     "metadata": {
      "needs_background": "light"
     },
     "output_type": "display_data"
    }
   ],
   "source": [
    "year = data['year']\n",
    "flats = data['flats_constructed']\n",
    "\n",
    "plt.plot(year, flats)\n",
    "\n",
    "plt.xlabel('year')\n",
    "plt.ylabel('flats')\n",
    "plt.title('Flats Constructed by HDB from 1977 to 2017')\n",
    "plt.legend('flats_constructed')\n",
    "plt.xticks(rotation=45)\n",
    "plt.tight_layout()\n",
    "plt.show()\n"
   ]
  },
  {
   "cell_type": "code",
   "execution_count": 26,
   "id": "65ec26af",
   "metadata": {},
   "outputs": [],
   "source": [
    "flat = sum(np.unique(data['flats_constructed'], return_counts=True))"
   ]
  },
  {
   "cell_type": "code",
   "execution_count": 29,
   "id": "9646edeb",
   "metadata": {},
   "outputs": [
    {
     "name": "stdout",
     "output_type": "stream",
     "text": [
      "Flats constructed: 917973\n"
     ]
    }
   ],
   "source": [
    "print(\"Flats constructed:\", sum(flat))"
   ]
  },
  {
   "cell_type": "markdown",
   "id": "b57fd9f7",
   "metadata": {},
   "source": [
    "From the graph we can identify the following\n",
    "1.) 1984 was a significat year with 67017 flats constructed\n",
    "2.) Just before 2000, 1998 to 1999 there was a large number of flats construted \n",
    "3.) 2013, 2015 and onwards it is increasing"
   ]
  }
 ],
 "metadata": {
  "kernelspec": {
   "display_name": "Python 3 (ipykernel)",
   "language": "python",
   "name": "python3"
  },
  "language_info": {
   "codemirror_mode": {
    "name": "ipython",
    "version": 3
   },
   "file_extension": ".py",
   "mimetype": "text/x-python",
   "name": "python",
   "nbconvert_exporter": "python",
   "pygments_lexer": "ipython3",
   "version": "3.9.12"
  }
 },
 "nbformat": 4,
 "nbformat_minor": 5
}
